{
 "cells": [
  {
   "cell_type": "code",
   "execution_count": 0,
   "metadata": {
    "application/vnd.databricks.v1+cell": {
     "cellMetadata": {
      "byteLimit": 2048000,
      "implicitDf": true,
      "rowLimit": 10000
     },
     "inputWidgets": {},
     "nuid": "5e50770d-1d43-4f64-8fce-5002ccfff475",
     "showTitle": false,
     "tableResultSettingsMap": {},
     "title": ""
    }
   },
   "outputs": [],
   "source": [
    "%sql\n",
    "-- Get list of all tables in bronze schema\n",
    "SHOW TABLES IN smart_claims_dev.bronze;"
   ]
  },
  {
   "cell_type": "code",
   "execution_count": 0,
   "metadata": {
    "application/vnd.databricks.v1+cell": {
     "cellMetadata": {
      "byteLimit": 2048000,
      "implicitDf": true,
      "rowLimit": 10000
     },
     "inputWidgets": {},
     "nuid": "9c03126f-329a-41a5-a13b-8ada6f2a906c",
     "showTitle": false,
     "tableResultSettingsMap": {},
     "title": ""
    }
   },
   "outputs": [],
   "source": [
    "%sql\n",
    "-- Drop all tables (run each DROP command)\n",
    "DROP TABLE IF EXISTS smart_claims_dev.bronze.raw_telematics;\n",
    "DROP TABLE IF EXISTS smart_claims_dev.bronze.landing_telematics;\n",
    "DROP TABLE IF EXISTS smart_claims_dev.bronze.bronze_telematics;\n",
    "DROP TABLE IF EXISTS smart_claims_dev.bronze.sample_trips_kinesis_ingestion;\n",
    "DROP TABLE IF EXISTS smart_claims_dev.bronze.sample_zones_kinesis_ingestion;"
   ]
  },
  {
   "cell_type": "code",
   "execution_count": 0,
   "metadata": {
    "application/vnd.databricks.v1+cell": {
     "cellMetadata": {
      "byteLimit": 2048000,
      "rowLimit": 10000
     },
     "inputWidgets": {},
     "nuid": "2f5db929-5d84-4ef3-85ee-875015c41b9b",
     "showTitle": false,
     "tableResultSettingsMap": {},
     "title": ""
    }
   },
   "outputs": [],
   "source": [
    "# Check the file system structure\n",
    "dbutils.fs.ls(\"/\")"
   ]
  },
  {
   "cell_type": "code",
   "execution_count": 0,
   "metadata": {
    "application/vnd.databricks.v1+cell": {
     "cellMetadata": {
      "byteLimit": 2048000,
      "rowLimit": 10000
     },
     "inputWidgets": {},
     "nuid": "7e9a30b1-acd1-4e18-91e6-f9c35175888c",
     "showTitle": false,
     "tableResultSettingsMap": {},
     "title": ""
    }
   },
   "outputs": [],
   "source": [
    "import os\n",
    "\n",
    "# Look for all environment variables that might indicate cloud provider\n",
    "cloud_indicators = []\n",
    "for key in sorted(os.environ.keys()):\n",
    "    if any(word in key.lower() for word in ['cloud', 'provider', 'platform', 's3', 'aws', 'azure', 'gcp', 'databricks']):\n",
    "        cloud_indicators.append(f\"{key}: {os.environ[key]}\")\n",
    "\n",
    "for indicator in cloud_indicators[:50]:  # Show first 10 to avoid too much output\n",
    "    print(indicator)"
   ]
  }
 ],
 "metadata": {
  "application/vnd.databricks.v1+notebook": {
   "computePreferences": {
    "hardware": {
     "accelerator": null,
     "gpuPoolId": null,
     "memory": null
    }
   },
   "dashboards": [],
   "environmentMetadata": {
    "base_environment": "",
    "environment_version": "3"
   },
   "inputWidgetPreferences": null,
   "language": "python",
   "notebookMetadata": {
    "mostRecentlyExecutedCommandWithImplicitDF": {
     "commandId": 6418455269586832,
     "dataframes": [
      "_sqldf"
     ]
    },
    "pythonIndentUnit": 4
   },
   "notebookName": "helper_notebook",
   "widgets": {}
  },
  "language_info": {
   "name": "python"
  }
 },
 "nbformat": 4,
 "nbformat_minor": 0
}
