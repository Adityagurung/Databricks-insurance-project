{
 "cells": [
  {
   "cell_type": "code",
   "execution_count": 0,
   "metadata": {
    "application/vnd.databricks.v1+cell": {
     "cellMetadata": {
      "byteLimit": 2048000,
      "implicitDf": true,
      "rowLimit": 10000
     },
     "inputWidgets": {},
     "nuid": "5e50770d-1d43-4f64-8fce-5002ccfff475",
     "showTitle": false,
     "tableResultSettingsMap": {},
     "title": ""
    }
   },
   "outputs": [],
   "source": [
    "%sql\n",
    "-- Get list of all tables in bronze schema\n",
    "SHOW TABLES IN smart_claims_dev.bronze;"
   ]
  },
  {
   "cell_type": "code",
   "execution_count": 0,
   "metadata": {
    "application/vnd.databricks.v1+cell": {
     "cellMetadata": {
      "byteLimit": 2048000,
      "implicitDf": true,
      "rowLimit": 10000
     },
     "inputWidgets": {},
     "nuid": "9c03126f-329a-41a5-a13b-8ada6f2a906c",
     "showTitle": false,
     "tableResultSettingsMap": {},
     "title": ""
    }
   },
   "outputs": [],
   "source": [
    "%sql\n",
    "-- Drop all tables (run each DROP command)\n",
    "DROP TABLE IF EXISTS smart_claims_dev.bronze.raw_telematics;\n",
    "DROP TABLE IF EXISTS smart_claims_dev.bronze.landing_telematics;\n",
    "DROP TABLE IF EXISTS smart_claims_dev.bronze.bronze_telematics;\n",
    "DROP TABLE IF EXISTS smart_claims_dev.bronze.sample_trips_kinesis_ingestion;\n",
    "DROP TABLE IF EXISTS smart_claims_dev.bronze.sample_zones_kinesis_ingestion;"
   ]
  }
 ],
 "metadata": {
  "application/vnd.databricks.v1+notebook": {
   "computePreferences": null,
   "dashboards": [],
   "environmentMetadata": {
    "base_environment": "",
    "environment_version": "3"
   },
   "inputWidgetPreferences": null,
   "language": "python",
   "notebookMetadata": {
    "mostRecentlyExecutedCommandWithImplicitDF": {
     "commandId": 6418455269586832,
     "dataframes": [
      "_sqldf"
     ]
    },
    "pythonIndentUnit": 4
   },
   "notebookName": "helper_notebook",
   "widgets": {}
  },
  "language_info": {
   "name": "python"
  }
 },
 "nbformat": 4,
 "nbformat_minor": 0
}
